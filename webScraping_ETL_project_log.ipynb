{
  "nbformat": 4,
  "nbformat_minor": 0,
  "metadata": {
    "colab": {
      "provenance": [],
      "authorship_tag": "ABX9TyO/paEGShfVXVdrVRbGQuD1",
      "include_colab_link": true
    },
    "kernelspec": {
      "name": "python3",
      "display_name": "Python 3"
    },
    "language_info": {
      "name": "python"
    }
  },
  "cells": [
    {
      "cell_type": "markdown",
      "metadata": {
        "id": "view-in-github",
        "colab_type": "text"
      },
      "source": [
        "<a href=\"https://colab.research.google.com/github/joaopaulof19/dados_pib_paises/blob/main/webScraping_ETL_project_log.ipynb\" target=\"_parent\"><img src=\"https://colab.research.google.com/assets/colab-badge.svg\" alt=\"Open In Colab\"/></a>"
      ]
    },
    {
      "cell_type": "code",
      "execution_count": 67,
      "metadata": {
        "id": "EJJ_gVLiB4uo"
      },
      "outputs": [],
      "source": [
        "# Importando as bibliotecas necessárias\n",
        "import pandas as pd\n",
        "import requests\n",
        "from bs4 import BeautifulSoup\n",
        "import numpy as np\n",
        "import sqlite3\n",
        "from datetime import datetime\n"
      ]
    },
    {
      "cell_type": "code",
      "source": [
        "url = 'https://web.archive.org/web/20230902185326/https://en.wikipedia.org/wiki/List_of_countries_by_GDP_%28nominal%29'\n",
        "db_name = \"World_Economies.db\"\n",
        "table_name = \"Countries_by_GDP\"\n",
        "csv_path = \"Countries_by_GDP.csv\"\n",
        "table_attribs = [\"Country\", \"GDP_USD_millions\"]"
      ],
      "metadata": {
        "id": "qNN8Xt3HB-ho"
      },
      "execution_count": 68,
      "outputs": []
    },
    {
      "cell_type": "code",
      "source": [
        "# Código para operações ETL em dados do PIB do país\n",
        "\n",
        "def extract(url, table_attribs):\n",
        "    page = requests.get(url).text\n",
        "    data = BeautifulSoup(page,'html.parser')\n",
        "    df = pd.DataFrame(columns=table_attribs)\n",
        "    tables = data.find_all('tbody')\n",
        "    rows = tables[2].find_all('tr')\n",
        "    for row in rows:\n",
        "        col = row.find_all('td')\n",
        "        if len(col)!=0:\n",
        "            if col[0].find('a') is not None and '—' not in col[2]:\n",
        "                data_dict = {\"Country\": col[0].a.contents[0],\n",
        "                             \"GDP_USD_millions\": col[2].contents[0]}\n",
        "                df1 = pd.DataFrame(data_dict, index=[0])\n",
        "                df = pd.concat([df,df1], ignore_index=True)\n",
        "    return df\n",
        "\n",
        "def transform(df):\n",
        "    df[\"GDP_USD_millions\"] = round(df[\"GDP_USD_millions\"].str.replace(\",\", \"\").astype(float)/1000, 2)\n",
        "    df.rename(columns={\"GDP_USD_millions\": \"GDP_USD_billions\"}, inplace=True)\n",
        "    return df\n",
        "\n",
        "def load_to_csv(df, csv_path):\n",
        "    df.to_csv(csv_path, index=False)\n",
        "\n",
        "def load_to_db(df, sql_connection, table_name):\n",
        "    df.to_sql(name=table_name, con=sql_connection, if_exists=\"replace\", index=False)\n",
        "\n",
        "def run_query(query_statement, sql_connection):\n",
        "    print(query_statement)\n",
        "    query_output = pd.read_sql(query_statement, sql_connection)\n",
        "    print(query_output)\n",
        "\n",
        "def log_progress(message):\n",
        "    timestamp_format = '%Y-%h-%d-%H:%M:%S' # Ano-MêsNome-Dia-Hora-Minuto-Segundo\n",
        "    now = datetime.now() # obter carimbo de data/hora atual\n",
        "    timestamp = now.strftime(timestamp_format)\n",
        "    print(timestamp + ' : ' + message + '\\n')\n",
        "    with open(\"./etl_project_log.txt\",\"a\") as f:\n",
        "        f.write(timestamp + ' : ' + message + '\\n')"
      ],
      "metadata": {
        "id": "qqan3r1yDwVY"
      },
      "execution_count": 70,
      "outputs": []
    },
    {
      "cell_type": "code",
      "source": [
        "log_progress('Preliminaries complete. Initiating ETL process')\n",
        "\n",
        "df = extract(url, table_attribs)\n",
        "\n",
        "log_progress('Data extraction complete. Initiating Transformation process')\n",
        "\n",
        "df = transform(df)\n",
        "\n",
        "log_progress('Data transformation complete. Initiating loading process')\n",
        "\n",
        "load_to_csv(df, csv_path)\n",
        "\n",
        "log_progress('Data saved to CSV file')\n",
        "\n",
        "sql_connection = sqlite3.connect('World_Economies.db')\n",
        "\n",
        "log_progress('SQL Connection initiated.')\n",
        "\n",
        "load_to_db(df, sql_connection, table_name)\n",
        "\n",
        "log_progress('Data loaded to Database as table. Running the query')\n",
        "\n",
        "query_statement = f\"SELECT * from {table_name} WHERE GDP_USD_billions >= 100\"\n",
        "run_query(query_statement, sql_connection)\n",
        "\n",
        "log_progress('Process Complete.')\n",
        "\n",
        "sql_connection.close()"
      ],
      "metadata": {
        "colab": {
          "base_uri": "https://localhost:8080/"
        },
        "id": "GPH-uFnRGI3c",
        "outputId": "72a88b81-0638-4edd-937d-52a17bfede98"
      },
      "execution_count": 66,
      "outputs": [
        {
          "output_type": "stream",
          "name": "stdout",
          "text": [
            "2024-Jan-18-21:48:47 : Preliminaries complete. Initiating ETL process\n",
            "\n",
            "2024-Jan-18-21:48:49 : Data extraction complete. Initiating Transformation process\n",
            "\n",
            "2024-Jan-18-21:48:49 : Data transformation complete. Initiating loading process\n",
            "\n",
            "2024-Jan-18-21:48:49 : Data saved to CSV file\n",
            "\n",
            "2024-Jan-18-21:48:49 : SQL Connection initiated.\n",
            "\n",
            "2024-Jan-18-21:48:49 : Data loaded to Database as table. Running the query\n",
            "\n",
            "SELECT * from Countries_by_GDP WHERE GDP_USD_billions >= 100\n",
            "          Country  GDP_USD_billions\n",
            "0   United States          26854.60\n",
            "1           China          19373.59\n",
            "2           Japan           4409.74\n",
            "3         Germany           4308.85\n",
            "4           India           3736.88\n",
            "..            ...               ...\n",
            "64          Kenya            118.13\n",
            "65         Angola            117.88\n",
            "66           Oman            104.90\n",
            "67      Guatemala            102.31\n",
            "68       Bulgaria            100.64\n",
            "\n",
            "[69 rows x 2 columns]\n",
            "2024-Jan-18-21:48:49 : Process Complete.\n",
            "\n"
          ]
        }
      ]
    }
  ]
}